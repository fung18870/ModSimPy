{
 "cells": [
  {
   "cell_type": "markdown",
   "metadata": {},
   "source": [
    "# HIV Model\n",
    "## By: Mary Fung"
   ]
  },
  {
   "cell_type": "code",
   "execution_count": 1,
   "metadata": {},
   "outputs": [],
   "source": [
    "# Configure Jupyter so figures appear in the notebook\n",
    "%matplotlib inline\n",
    "\n",
    "# Configure Jupyter to display the assigned value after an assignment\n",
    "%config InteractiveShell.ast_node_interactivity='last_expr_or_assign'\n",
    "\n",
    "# import functions from the modsim.py module\n",
    "from modsim import *"
   ]
  },
  {
   "cell_type": "code",
   "execution_count": 31,
   "metadata": {},
   "outputs": [],
   "source": [
    "def make_system(gamma, mu, tau, beta, rho, alpha, sigma, delta, pi):\n",
    "    \"\"\"Make a system object for the SIR model.\n",
    "    \n",
    "    returns: System object\n",
    "    \"\"\"\n",
    "    init = State(R=200, L=0, E=0, V=4*10**(-7))\n",
    "    #init /= np.sum(init)\n",
    "\n",
    "    t0 = 0\n",
    "    t_end = 120\n",
    "    dt = .05\n",
    "\n",
    "    return System(init=init, t0=t0, t_end=t_end, dt=dt,\n",
    "                  gamma=gamma, mu=mu, tau=tau, beta=beta, rho=rho,\n",
    "                  alpha=alpha, sigma=sigma, delta=delta, pi=pi)"
   ]
  },
  {
   "cell_type": "code",
   "execution_count": 32,
   "metadata": {},
   "outputs": [],
   "source": [
    "def plot_results(R,L,E,V):\n",
    "    \"\"\"Plot the results of a SIR model.\n",
    "    \"\"\"\n",
    "    \n",
    "    plot(R, '--', label='Uninfected CD4 Lymphocytes')\n",
    "    plot(L, '-', label='Latently Infected Cells')\n",
    "    plot(E, ':', label='Actively Infected Cells')\n",
    "    plot(V, '-.', label='Free Virons')\n",
    "    decorate(xlabel='Days from infection',\n",
    "             ylabel='Total number of cells')"
   ]
  },
  {
   "cell_type": "code",
   "execution_count": 33,
   "metadata": {},
   "outputs": [],
   "source": [
    "def run_simulation(system, update_func):\n",
    "    \"\"\"Runs a simulation of the system.\n",
    "        \n",
    "    system: System object\n",
    "    update_func: function that updates state\n",
    "    \n",
    "    returns: TimeFrame\n",
    "    \"\"\"\n",
    "    unpack(system)\n",
    "    \n",
    "    frame = TimeFrame(columns=init.index)\n",
    "    frame.row[t0] = init\n",
    "    ts = linrange(0, t_end, dt)\n",
    "    \n",
    "    for t in ts:\n",
    "        frame.row[t+dt] = update_func(frame.row[t], t, system)\n",
    "    \n",
    "    return frame"
   ]
  },
  {
   "cell_type": "code",
   "execution_count": 34,
   "metadata": {},
   "outputs": [],
   "source": [
    "def update_func(state, t, system):\n",
    "    \"\"\"Update the model.\n",
    "    \n",
    "    state: State\n",
    "    t: time\n",
    "    system: System object\n",
    "    \n",
    "    returns: State\n",
    "    \"\"\"\n",
    "    unpack(system)\n",
    "    \n",
    "    r, l, e, v = state\n",
    "\n",
    "    dRdt = (gamma * tau) - (mu * r) - (beta * r * v)\n",
    "    dLdt = (rho * beta * r * v) - (mu * l) - (alpha * l)\n",
    "    dEdt = ((1 - rho) * beta * r * v) + (alpha * l) - (delta * e)\n",
    "    dVdt = (pi * e) - (sigma * v)\n",
    "    \n",
    "    r += dRdt * dt\n",
    "    l += dLdt * dt\n",
    "    e += dEdt * dt\n",
    "    v += dVdt * dt\n",
    "    \n",
    "    return State(R=r, L=l, E=e, V=v)"
   ]
  },
  {
   "cell_type": "code",
   "execution_count": 35,
   "metadata": {},
   "outputs": [
    {
     "data": {
      "text/html": [
       "<div>\n",
       "<style scoped>\n",
       "    .dataframe tbody tr th:only-of-type {\n",
       "        vertical-align: middle;\n",
       "    }\n",
       "\n",
       "    .dataframe tbody tr th {\n",
       "        vertical-align: top;\n",
       "    }\n",
       "\n",
       "    .dataframe thead th {\n",
       "        text-align: right;\n",
       "    }\n",
       "</style>\n",
       "<table border=\"1\" class=\"dataframe\">\n",
       "  <thead>\n",
       "    <tr style=\"text-align: right;\">\n",
       "      <th></th>\n",
       "      <th>values</th>\n",
       "    </tr>\n",
       "  </thead>\n",
       "  <tbody>\n",
       "    <tr>\n",
       "      <th>init</th>\n",
       "      <td>R    2.000000e+02\n",
       "L    0.000000e+00\n",
       "E    0.000...</td>\n",
       "    </tr>\n",
       "    <tr>\n",
       "      <th>t0</th>\n",
       "      <td>0</td>\n",
       "    </tr>\n",
       "    <tr>\n",
       "      <th>t_end</th>\n",
       "      <td>120</td>\n",
       "    </tr>\n",
       "    <tr>\n",
       "      <th>dt</th>\n",
       "      <td>0.05</td>\n",
       "    </tr>\n",
       "    <tr>\n",
       "      <th>gamma</th>\n",
       "      <td>1.36</td>\n",
       "    </tr>\n",
       "    <tr>\n",
       "      <th>mu</th>\n",
       "      <td>0.00136</td>\n",
       "    </tr>\n",
       "    <tr>\n",
       "      <th>tau</th>\n",
       "      <td>0.2</td>\n",
       "    </tr>\n",
       "    <tr>\n",
       "      <th>beta</th>\n",
       "      <td>0.00027</td>\n",
       "    </tr>\n",
       "    <tr>\n",
       "      <th>rho</th>\n",
       "      <td>0.1</td>\n",
       "    </tr>\n",
       "    <tr>\n",
       "      <th>alpha</th>\n",
       "      <td>0.036</td>\n",
       "    </tr>\n",
       "    <tr>\n",
       "      <th>sigma</th>\n",
       "      <td>2</td>\n",
       "    </tr>\n",
       "    <tr>\n",
       "      <th>delta</th>\n",
       "      <td>0.33</td>\n",
       "    </tr>\n",
       "    <tr>\n",
       "      <th>pi</th>\n",
       "      <td>100</td>\n",
       "    </tr>\n",
       "  </tbody>\n",
       "</table>\n",
       "</div>"
      ],
      "text/plain": [
       "init     R    2.000000e+02\n",
       "L    0.000000e+00\n",
       "E    0.000...\n",
       "t0                                                       0\n",
       "t_end                                                  120\n",
       "dt                                                    0.05\n",
       "gamma                                                 1.36\n",
       "mu                                                 0.00136\n",
       "tau                                                    0.2\n",
       "beta                                               0.00027\n",
       "rho                                                    0.1\n",
       "alpha                                                0.036\n",
       "sigma                                                    2\n",
       "delta                                                 0.33\n",
       "pi                                                     100\n",
       "dtype: object"
      ]
     },
     "execution_count": 35,
     "metadata": {},
     "output_type": "execute_result"
    }
   ],
   "source": [
    "#Create initial system values as listed in the chart in the paper.\n",
    "system = make_system(1.36, 1.36*10**(-3), 0.2, 0.00027, 0.1, 3.6*10**(-2),\n",
    "                     2, 0.33, 100)"
   ]
  },
  {
   "cell_type": "code",
   "execution_count": 36,
   "metadata": {},
   "outputs": [
    {
     "data": {
      "text/html": [
       "<div>\n",
       "<style scoped>\n",
       "    .dataframe tbody tr th:only-of-type {\n",
       "        vertical-align: middle;\n",
       "    }\n",
       "\n",
       "    .dataframe tbody tr th {\n",
       "        vertical-align: top;\n",
       "    }\n",
       "\n",
       "    .dataframe thead th {\n",
       "        text-align: right;\n",
       "    }\n",
       "</style>\n",
       "<table border=\"1\" class=\"dataframe\">\n",
       "  <thead>\n",
       "    <tr style=\"text-align: right;\">\n",
       "      <th></th>\n",
       "      <th>R</th>\n",
       "      <th>L</th>\n",
       "      <th>E</th>\n",
       "      <th>V</th>\n",
       "    </tr>\n",
       "  </thead>\n",
       "  <tbody>\n",
       "    <tr>\n",
       "      <th>0.00</th>\n",
       "      <td>200.0</td>\n",
       "      <td>0.000000e+00</td>\n",
       "      <td>0.000000e+00</td>\n",
       "      <td>4.000000e-07</td>\n",
       "    </tr>\n",
       "    <tr>\n",
       "      <th>0.05</th>\n",
       "      <td>200.0</td>\n",
       "      <td>1.080000e-10</td>\n",
       "      <td>9.720000e-10</td>\n",
       "      <td>3.600000e-07</td>\n",
       "    </tr>\n",
       "    <tr>\n",
       "      <th>0.10</th>\n",
       "      <td>200.0</td>\n",
       "      <td>2.049983e-10</td>\n",
       "      <td>1.830956e-09</td>\n",
       "      <td>3.288600e-07</td>\n",
       "    </tr>\n",
       "    <tr>\n",
       "      <th>0.15</th>\n",
       "      <td>200.0</td>\n",
       "      <td>2.934075e-10</td>\n",
       "      <td>2.600244e-09</td>\n",
       "      <td>3.051288e-07</td>\n",
       "    </tr>\n",
       "    <tr>\n",
       "      <th>0.20</th>\n",
       "      <td>200.0</td>\n",
       "      <td>3.752442e-10</td>\n",
       "      <td>3.299331e-09</td>\n",
       "      <td>2.876171e-07</td>\n",
       "    </tr>\n",
       "  </tbody>\n",
       "</table>\n",
       "</div>"
      ],
      "text/plain": [
       "          R             L             E             V\n",
       "0.00  200.0  0.000000e+00  0.000000e+00  4.000000e-07\n",
       "0.05  200.0  1.080000e-10  9.720000e-10  3.600000e-07\n",
       "0.10  200.0  2.049983e-10  1.830956e-09  3.288600e-07\n",
       "0.15  200.0  2.934075e-10  2.600244e-09  3.051288e-07\n",
       "0.20  200.0  3.752442e-10  3.299331e-09  2.876171e-07"
      ]
     },
     "execution_count": 36,
     "metadata": {},
     "output_type": "execute_result"
    }
   ],
   "source": [
    "results = run_simulation(system, update_func)\n",
    "results.head()"
   ]
  },
  {
   "cell_type": "code",
   "execution_count": 37,
   "metadata": {},
   "outputs": [
    {
     "data": {
      "image/png": "[encoded data removed]",
      "text/plain": [
       "<Figure size 432x288 with 1 Axes>"
      ]
     },
     "metadata": {},
     "output_type": "display_data"
    }
   ],
   "source": [
    "plot_results(results.R, results.L, results.E, results.V)"
   ]
  },
  {
   "cell_type": "code",
   "execution_count": 5,
   "metadata": {},
   "outputs": [],
   "source": []
  },
  {
   "cell_type": "code",
   "execution_count": null,
   "metadata": {},
   "outputs": [],
   "source": []
  }
 ],
 "metadata": {
  "kernelspec": {
   "display_name": "Python 3",
   "language": "python",
   "name": "python3"
  },
  "language_info": {
   "codemirror_mode": {
    "name": "ipython",
    "version": 3
   },
   "file_extension": ".py",
   "mimetype": "text/x-python",
   "name": "python",
   "nbconvert_exporter": "python",
   "pygments_lexer": "ipython3",
   "version": "3.6.6"
  }
 },
 "nbformat": 4,
 "nbformat_minor": 2
}
