{
 "cells": [
  {
   "cell_type": "markdown",
   "metadata": {},
   "source": [
    "# Olin's Coffee Cooling Problem #\n",
    "#### By: Theo Johnson and Mary Fung"
   ]
  },
  {
   "cell_type": "code",
   "execution_count": 1,
   "metadata": {},
   "outputs": [],
   "source": [
    "# Configure Jupyter so figures appear in the notebook\n",
    "%matplotlib inline\n",
    "\n",
    "# Configure Jupyter to display the assigned value after an assignment\n",
    "%config InteractiveShell.ast_node_interactivity='last_expr_or_assign'\n",
    "\n",
    "# import functions from the modsim.py module\n",
    "from modsim import *"
   ]
  },
  {
   "cell_type": "markdown",
   "metadata": {},
   "source": [
    "### Background\n",
    "   Picture this, it's a Thursday evening and ModSim is just wrapping up. Before you leave, your teacher announces that the next class will start in the Nord where the teaching team will spend an hour introducing the next topic. By now, it's not uncommon for any of the first-year courses, such as DesNat or ModSim, to meet in the Nord heading to the AC for time in the studios. If only it weren't so cold in the Nord."
   ]
  },
  {
   "cell_type": "markdown",
   "metadata": {},
   "source": [
    "   Last time this happened, you were already tired and low on energy when you got to the AC. Fortunately, you had made some coffee before heading to class. Unfortunately, the colder air in the Nord and the frigid weather outside have cooled your coffee more than you expected. This time however, you're more prepared."
   ]
  },
  {
   "cell_type": "markdown",
   "metadata": {},
   "source": [
    "## Question ##\n",
    "   How warm should you make your coffee, knowing that you aren't going to drink it until you get to the AC and that you'll be in the Nord for an hour beforehand, and instead of making your coffee hotter, could you change the *k* value to get the same results?"
   ]
  },
  {
   "cell_type": "markdown",
   "metadata": {},
   "source": [
    "## Method ##\n",
    "Using the coffee cooling model in the Chapter 15 and 16 notebooks, we created our initial model with a set initial coffee temperature of 90 degrees Celsius, we'll sweep the initial temperature once we have a working model."
   ]
  },
  {
   "cell_type": "markdown",
   "metadata": {},
   "source": [
    "### Creating a Model ###\n",
    "First things first, let's make our system.\n",
    "\n",
    "Our system parameters include the initial temperature, the volume of coffee (in mL), the *k* value (for now let's assume 0.01), the environment temperatures (here's where it gets complicated), the ending time (in minutes), and the time step size (also in minutes).\n",
    "\n",
    "Now, we also have to set the different temperatures for different times. Assuming you leave the Dining Hall 3 minutes after making your coffee, walk outside for 1 minute before arriving in the Nord, stay in the Nord for an hour, walk outside for 3 minutes to the AC, and take 5 minutes to settle down before drinking your coffee, the code looks like the following."
   ]
  },
  {
   "cell_type": "code",
   "execution_count": 2,
   "metadata": {},
   "outputs": [
    {
     "data": {
      "text/html": [
       "<div>\n",
       "<style scoped>\n",
       "    .dataframe tbody tr th:only-of-type {\n",
       "        vertical-align: middle;\n",
       "    }\n",
       "\n",
       "    .dataframe tbody tr th {\n",
       "        vertical-align: top;\n",
       "    }\n",
       "\n",
       "    .dataframe thead th {\n",
       "        text-align: right;\n",
       "    }\n",
       "</style>\n",
       "<table border=\"1\" class=\"dataframe\">\n",
       "  <thead>\n",
       "    <tr style=\"text-align: right;\">\n",
       "      <th></th>\n",
       "      <th>values</th>\n",
       "    </tr>\n",
       "  </thead>\n",
       "  <tbody>\n",
       "    <tr>\n",
       "      <th>init</th>\n",
       "      <td>T    90\n",
       "dtype: int64</td>\n",
       "    </tr>\n",
       "    <tr>\n",
       "      <th>volume</th>\n",
       "      <td>200</td>\n",
       "    </tr>\n",
       "    <tr>\n",
       "      <th>k</th>\n",
       "      <td>0.033</td>\n",
       "    </tr>\n",
       "    <tr>\n",
       "      <th>t_end</th>\n",
       "      <td>68</td>\n",
       "    </tr>\n",
       "    <tr>\n",
       "      <th>dt</th>\n",
       "      <td>1</td>\n",
       "    </tr>\n",
       "  </tbody>\n",
       "</table>\n",
       "</div>"
      ],
      "text/plain": [
       "init      T    90\n",
       "dtype: int64\n",
       "volume                     200\n",
       "k                        0.033\n",
       "t_end                       68\n",
       "dt                           1\n",
       "dtype: object"
      ]
     },
     "execution_count": 2,
     "metadata": {},
     "output_type": "execute_result"
    }
   ],
   "source": [
    "init = State(T=90) #all temps in in C\n",
    "coffee = System(init=init,\n",
    "                volume=200, #ml\n",
    "                k=0.033,\n",
    "                t_end=68,\n",
    "                dt=1)\n",
    "#Set values vol, k, time, step size"
   ]
  },
  {
   "cell_type": "code",
   "execution_count": 3,
   "metadata": {},
   "outputs": [],
   "source": [
    "for t in range(1):\n",
    "    \"\"\"Temperature in the Dining Hall was about 73 degrees F\"\"\"\n",
    "    T_env = 22.78\n",
    "\n",
    "    \n",
    "for t in range(1,2):\n",
    "    \"\"\"Temperature outside in the end of October was 53 degrees F on average\"\"\"\n",
    "    T_env = 11.67\n",
    "  \n",
    "    \n",
    "for t in range(2,62):\n",
    "    \"\"\"Temperature in the Nord was about 68 degrees F\"\"\"\n",
    "    T_env = 20\n",
    " \n",
    "    \n",
    "for t in range(62,63):\n",
    "    \"\"\"Temperature outside\"\"\"\n",
    "    T_env = 11.67\n",
    "  \n",
    "    \n",
    "for t in range(63,68):\n",
    "    \"\"\"Temperature in the AC was about 70 degrees F\"\"\"\n",
    "    T_env = 21.11\n",
    "    \n",
    "#set external temps in each time frame, timeframes in order:\n",
    "# DH, outside, Nord, outside, AC"
   ]
  },
  {
   "cell_type": "markdown",
   "metadata": {},
   "source": [
    "Newton's Law of Cooling represents our differential equation of our stock-and-flow diagram, we'll store that in our update function."
   ]
  },
  {
   "cell_type": "code",
   "execution_count": 4,
   "metadata": {},
   "outputs": [],
   "source": [
    "def update_func(state, t, system):\n",
    "    \"\"\"Update the thermal transfer model.\n",
    "    \n",
    "    state: State (temperature in degrees Celsius)\n",
    "    t: time in minutes\n",
    "    system: System object\n",
    "    \n",
    "    returns: State (temperature)\n",
    "    \"\"\"\n",
    "    unpack(system)\n",
    "    \n",
    "    T = state.T\n",
    "    T += -k * (T - T_env) * dt\n",
    "    #Gets the temperature from State\n",
    "    #Adds the change in temperature\n",
    "    #Returns the new temperature to State\n",
    "    return State(T=T)\n",
    "\n",
    "#Differential equation from Newton's law of Cooling\n",
    "#T=init temp, k=set value from cup, T_env = external temp, dt= step size"
   ]
  },
  {
   "cell_type": "markdown",
   "metadata": {},
   "source": [
    "Let's see if it works:"
   ]
  },
  {
   "cell_type": "code",
   "execution_count": 5,
   "metadata": {},
   "outputs": [
    {
     "data": {
      "text/html": [
       "<div>\n",
       "<style scoped>\n",
       "    .dataframe tbody tr th:only-of-type {\n",
       "        vertical-align: middle;\n",
       "    }\n",
       "\n",
       "    .dataframe tbody tr th {\n",
       "        vertical-align: top;\n",
       "    }\n",
       "\n",
       "    .dataframe thead th {\n",
       "        text-align: right;\n",
       "    }\n",
       "</style>\n",
       "<table border=\"1\" class=\"dataframe\">\n",
       "  <thead>\n",
       "    <tr style=\"text-align: right;\">\n",
       "      <th></th>\n",
       "      <th>values</th>\n",
       "    </tr>\n",
       "  </thead>\n",
       "  <tbody>\n",
       "    <tr>\n",
       "      <th>T</th>\n",
       "      <td>87.72663</td>\n",
       "    </tr>\n",
       "  </tbody>\n",
       "</table>\n",
       "</div>"
      ],
      "text/plain": [
       "T    87.72663\n",
       "dtype: float64"
      ]
     },
     "execution_count": 5,
     "metadata": {},
     "output_type": "execute_result"
    }
   ],
   "source": [
    "update_func(init, 0, coffee)\n",
    "#first step to test function"
   ]
  },
  {
   "cell_type": "markdown",
   "metadata": {},
   "source": [
    "Now our run simulation function:"
   ]
  },
  {
   "cell_type": "code",
   "execution_count": 6,
   "metadata": {},
   "outputs": [],
   "source": [
    "def run_simulation(system, update_func):\n",
    "    \"\"\"Runs a simulation of the system.\n",
    "    \n",
    "    Add a TimeFrame to the System: results\n",
    "    \n",
    "    system: System object\n",
    "    update_func: function that updates state\n",
    "    \"\"\"\n",
    "    unpack(system)\n",
    "    \n",
    "    frame = TimeFrame(columns=init.index)\n",
    "    frame.row[0] = init\n",
    "    ts = linrange(0, t_end, dt)\n",
    "    \n",
    "    for t in ts:\n",
    "        frame.row[t+dt] = update_func(frame.row[t], t, system)\n",
    "        \n",
    "    # store the final temperature in T_final\n",
    "    system.T_final = get_last_value(frame.T)\n",
    "    \n",
    "    return frame\n"
   ]
  },
  {
   "cell_type": "markdown",
   "metadata": {},
   "source": [
    "To put it all together:"
   ]
  },
  {
   "cell_type": "code",
   "execution_count": 7,
   "metadata": {},
   "outputs": [
    {
     "data": {
      "text/html": [
       "<div>\n",
       "<style scoped>\n",
       "    .dataframe tbody tr th:only-of-type {\n",
       "        vertical-align: middle;\n",
       "    }\n",
       "\n",
       "    .dataframe tbody tr th {\n",
       "        vertical-align: top;\n",
       "    }\n",
       "\n",
       "    .dataframe thead th {\n",
       "        text-align: right;\n",
       "    }\n",
       "</style>\n",
       "<table border=\"1\" class=\"dataframe\">\n",
       "  <thead>\n",
       "    <tr style=\"text-align: right;\">\n",
       "      <th></th>\n",
       "      <th>T</th>\n",
       "    </tr>\n",
       "  </thead>\n",
       "  <tbody>\n",
       "    <tr>\n",
       "      <th>0</th>\n",
       "      <td>90</td>\n",
       "    </tr>\n",
       "    <tr>\n",
       "      <th>1</th>\n",
       "      <td>87.7266</td>\n",
       "    </tr>\n",
       "    <tr>\n",
       "      <th>2</th>\n",
       "      <td>85.5283</td>\n",
       "    </tr>\n",
       "    <tr>\n",
       "      <th>3</th>\n",
       "      <td>83.4025</td>\n",
       "    </tr>\n",
       "    <tr>\n",
       "      <th>4</th>\n",
       "      <td>81.3468</td>\n",
       "    </tr>\n",
       "    <tr>\n",
       "      <th>5</th>\n",
       "      <td>79.359</td>\n",
       "    </tr>\n",
       "    <tr>\n",
       "      <th>6</th>\n",
       "      <td>77.4368</td>\n",
       "    </tr>\n",
       "    <tr>\n",
       "      <th>7</th>\n",
       "      <td>75.578</td>\n",
       "    </tr>\n",
       "    <tr>\n",
       "      <th>8</th>\n",
       "      <td>73.7806</td>\n",
       "    </tr>\n",
       "    <tr>\n",
       "      <th>9</th>\n",
       "      <td>72.0424</td>\n",
       "    </tr>\n",
       "    <tr>\n",
       "      <th>10</th>\n",
       "      <td>70.3617</td>\n",
       "    </tr>\n",
       "    <tr>\n",
       "      <th>11</th>\n",
       "      <td>68.7364</td>\n",
       "    </tr>\n",
       "    <tr>\n",
       "      <th>12</th>\n",
       "      <td>67.1647</td>\n",
       "    </tr>\n",
       "    <tr>\n",
       "      <th>13</th>\n",
       "      <td>65.6449</td>\n",
       "    </tr>\n",
       "    <tr>\n",
       "      <th>14</th>\n",
       "      <td>64.1752</td>\n",
       "    </tr>\n",
       "    <tr>\n",
       "      <th>15</th>\n",
       "      <td>62.7541</td>\n",
       "    </tr>\n",
       "    <tr>\n",
       "      <th>16</th>\n",
       "      <td>61.3798</td>\n",
       "    </tr>\n",
       "    <tr>\n",
       "      <th>17</th>\n",
       "      <td>60.0509</td>\n",
       "    </tr>\n",
       "    <tr>\n",
       "      <th>18</th>\n",
       "      <td>58.7659</td>\n",
       "    </tr>\n",
       "    <tr>\n",
       "      <th>19</th>\n",
       "      <td>57.5232</td>\n",
       "    </tr>\n",
       "    <tr>\n",
       "      <th>20</th>\n",
       "      <td>56.3216</td>\n",
       "    </tr>\n",
       "    <tr>\n",
       "      <th>21</th>\n",
       "      <td>55.1596</td>\n",
       "    </tr>\n",
       "    <tr>\n",
       "      <th>22</th>\n",
       "      <td>54.036</td>\n",
       "    </tr>\n",
       "    <tr>\n",
       "      <th>23</th>\n",
       "      <td>52.9494</td>\n",
       "    </tr>\n",
       "    <tr>\n",
       "      <th>24</th>\n",
       "      <td>51.8987</td>\n",
       "    </tr>\n",
       "    <tr>\n",
       "      <th>25</th>\n",
       "      <td>50.8827</td>\n",
       "    </tr>\n",
       "    <tr>\n",
       "      <th>26</th>\n",
       "      <td>49.9002</td>\n",
       "    </tr>\n",
       "    <tr>\n",
       "      <th>27</th>\n",
       "      <td>48.9501</td>\n",
       "    </tr>\n",
       "    <tr>\n",
       "      <th>28</th>\n",
       "      <td>48.0314</td>\n",
       "    </tr>\n",
       "    <tr>\n",
       "      <th>29</th>\n",
       "      <td>47.143</td>\n",
       "    </tr>\n",
       "    <tr>\n",
       "      <th>...</th>\n",
       "      <td>...</td>\n",
       "    </tr>\n",
       "    <tr>\n",
       "      <th>39</th>\n",
       "      <td>39.7218</td>\n",
       "    </tr>\n",
       "    <tr>\n",
       "      <th>40</th>\n",
       "      <td>39.1076</td>\n",
       "    </tr>\n",
       "    <tr>\n",
       "      <th>41</th>\n",
       "      <td>38.5137</td>\n",
       "    </tr>\n",
       "    <tr>\n",
       "      <th>42</th>\n",
       "      <td>37.9394</td>\n",
       "    </tr>\n",
       "    <tr>\n",
       "      <th>43</th>\n",
       "      <td>37.384</td>\n",
       "    </tr>\n",
       "    <tr>\n",
       "      <th>44</th>\n",
       "      <td>36.847</td>\n",
       "    </tr>\n",
       "    <tr>\n",
       "      <th>45</th>\n",
       "      <td>36.3276</td>\n",
       "    </tr>\n",
       "    <tr>\n",
       "      <th>46</th>\n",
       "      <td>35.8255</td>\n",
       "    </tr>\n",
       "    <tr>\n",
       "      <th>47</th>\n",
       "      <td>35.3399</td>\n",
       "    </tr>\n",
       "    <tr>\n",
       "      <th>48</th>\n",
       "      <td>34.8703</td>\n",
       "    </tr>\n",
       "    <tr>\n",
       "      <th>49</th>\n",
       "      <td>34.4162</td>\n",
       "    </tr>\n",
       "    <tr>\n",
       "      <th>50</th>\n",
       "      <td>33.9771</td>\n",
       "    </tr>\n",
       "    <tr>\n",
       "      <th>51</th>\n",
       "      <td>33.5525</td>\n",
       "    </tr>\n",
       "    <tr>\n",
       "      <th>52</th>\n",
       "      <td>33.1419</td>\n",
       "    </tr>\n",
       "    <tr>\n",
       "      <th>53</th>\n",
       "      <td>32.7448</td>\n",
       "    </tr>\n",
       "    <tr>\n",
       "      <th>54</th>\n",
       "      <td>32.3609</td>\n",
       "    </tr>\n",
       "    <tr>\n",
       "      <th>55</th>\n",
       "      <td>31.9896</td>\n",
       "    </tr>\n",
       "    <tr>\n",
       "      <th>56</th>\n",
       "      <td>31.6306</td>\n",
       "    </tr>\n",
       "    <tr>\n",
       "      <th>57</th>\n",
       "      <td>31.2834</td>\n",
       "    </tr>\n",
       "    <tr>\n",
       "      <th>58</th>\n",
       "      <td>30.9477</td>\n",
       "    </tr>\n",
       "    <tr>\n",
       "      <th>59</th>\n",
       "      <td>30.623</td>\n",
       "    </tr>\n",
       "    <tr>\n",
       "      <th>60</th>\n",
       "      <td>30.3091</td>\n",
       "    </tr>\n",
       "    <tr>\n",
       "      <th>61</th>\n",
       "      <td>30.0055</td>\n",
       "    </tr>\n",
       "    <tr>\n",
       "      <th>62</th>\n",
       "      <td>29.712</td>\n",
       "    </tr>\n",
       "    <tr>\n",
       "      <th>63</th>\n",
       "      <td>29.4281</td>\n",
       "    </tr>\n",
       "    <tr>\n",
       "      <th>64</th>\n",
       "      <td>29.1536</td>\n",
       "    </tr>\n",
       "    <tr>\n",
       "      <th>65</th>\n",
       "      <td>28.8882</td>\n",
       "    </tr>\n",
       "    <tr>\n",
       "      <th>66</th>\n",
       "      <td>28.6315</td>\n",
       "    </tr>\n",
       "    <tr>\n",
       "      <th>67</th>\n",
       "      <td>28.3833</td>\n",
       "    </tr>\n",
       "    <tr>\n",
       "      <th>68</th>\n",
       "      <td>28.1433</td>\n",
       "    </tr>\n",
       "  </tbody>\n",
       "</table>\n",
       "<p>69 rows × 1 columns</p>\n",
       "</div>"
      ],
      "text/plain": [
       "          T\n",
       "0        90\n",
       "1   87.7266\n",
       "2   85.5283\n",
       "3   83.4025\n",
       "4   81.3468\n",
       "5    79.359\n",
       "6   77.4368\n",
       "7    75.578\n",
       "8   73.7806\n",
       "9   72.0424\n",
       "10  70.3617\n",
       "11  68.7364\n",
       "12  67.1647\n",
       "13  65.6449\n",
       "14  64.1752\n",
       "15  62.7541\n",
       "16  61.3798\n",
       "17  60.0509\n",
       "18  58.7659\n",
       "19  57.5232\n",
       "20  56.3216\n",
       "21  55.1596\n",
       "22   54.036\n",
       "23  52.9494\n",
       "24  51.8987\n",
       "25  50.8827\n",
       "26  49.9002\n",
       "27  48.9501\n",
       "28  48.0314\n",
       "29   47.143\n",
       "..      ...\n",
       "39  39.7218\n",
       "40  39.1076\n",
       "41  38.5137\n",
       "42  37.9394\n",
       "43   37.384\n",
       "44   36.847\n",
       "45  36.3276\n",
       "46  35.8255\n",
       "47  35.3399\n",
       "48  34.8703\n",
       "49  34.4162\n",
       "50  33.9771\n",
       "51  33.5525\n",
       "52  33.1419\n",
       "53  32.7448\n",
       "54  32.3609\n",
       "55  31.9896\n",
       "56  31.6306\n",
       "57  31.2834\n",
       "58  30.9477\n",
       "59   30.623\n",
       "60  30.3091\n",
       "61  30.0055\n",
       "62   29.712\n",
       "63  29.4281\n",
       "64  29.1536\n",
       "65  28.8882\n",
       "66  28.6315\n",
       "67  28.3833\n",
       "68  28.1433\n",
       "\n",
       "[69 rows x 1 columns]"
      ]
     },
     "execution_count": 7,
     "metadata": {},
     "output_type": "execute_result"
    }
   ],
   "source": [
    "results = run_simulation(coffee, update_func)\n"
   ]
  },
  {
   "cell_type": "markdown",
   "metadata": {},
   "source": [
    "As a graph, it's easier to see the change in temperature that occurs."
   ]
  },
  {
   "cell_type": "code",
   "execution_count": 8,
   "metadata": {},
   "outputs": [
    {
     "data": {
      "image/png": "[encoded data removed]",
      "text/plain": [
       "<Figure size 432x288 with 1 Axes>"
      ]
     },
     "metadata": {},
     "output_type": "display_data"
    }
   ],
   "source": [
    "plot(results.T, label='coffee')\n",
    "decorate(xlabel='Time (minutes)',\n",
    "         ylabel='Temperature (C)')\n",
    "#results of k value= .033 (Olin coffee cup)\n",
    "#and T=70 (reccomended serving heat of coffee)"
   ]
  },
  {
   "cell_type": "markdown",
   "metadata": {},
   "source": [
    "From here, we can collect the final temperature of the coffee."
   ]
  },
  {
   "cell_type": "code",
   "execution_count": 9,
   "metadata": {},
   "outputs": [
    {
     "data": {
      "text/plain": [
       "28.143255951829225"
      ]
     },
     "execution_count": 9,
     "metadata": {},
     "output_type": "execute_result"
    }
   ],
   "source": [
    "coffee.T_final\n",
    "#final temp of coffee with Olin values"
   ]
  },
  {
   "cell_type": "markdown",
   "metadata": {},
   "source": [
    "## Results 1 ##\n",
    "This is the skeleton of our model. As shown in the graph, the temperature of the coffee continuously decreases, nearing the temperature of the environment. It should be noted that no largely noticeable difference in the temperature drop based on the change in location can be seen. This is likely due to the fact that the temperature of the coffee is much greater than the surrounding environment, any change in rate is hard to see compared to the overall decrease in temperature.\n",
    "\n",
    "However, as it stands, the final temperature of our coffee, is 26 degrees Celsius (78.8 degrees Fahrenheit). This is rather cold, so we will be attempting to raise the final temperature by changing both `T_init` and `k`."
   ]
  },
  {
   "cell_type": "markdown",
   "metadata": {},
   "source": [
    "### Cleaning up the code ###\n",
    "Before we can move on, we should clean up our code. This will make it easier moving forward. To do this, we used a make system function to store our parameters."
   ]
  },
  {
   "cell_type": "code",
   "execution_count": 10,
   "metadata": {},
   "outputs": [],
   "source": [
    "def make_system(T_init, k, volume, t_end):\n",
    "    \"\"\"Makes a System object with the given parameters.\n",
    "\n",
    "    T_init: initial temperature in degC\n",
    "    r: heat transfer rate, in 1/min\n",
    "    volume: volume of liquid in mL\n",
    "    t_end: end time of simulation\n",
    "    \n",
    "    returns: System object\n",
    "    \"\"\"\n",
    "    init = State(T=T_init)\n",
    "    \n",
    "    # T_final is used to store the final temperature.\n",
    "    # Before the simulation runs, T_final = T_init\n",
    "    T_final = T_init\n",
    "    \n",
    "    #T_env changes bsed on the location which corresponds to time\n",
    "    for t in range(1):\n",
    "        T_env = 22.78\n",
    "\n",
    "\n",
    "    for t in range(1,2):\n",
    "        T_env = 11.67\n",
    "\n",
    "\n",
    "    for t in range(2,62):\n",
    "        T_env = 20\n",
    "\n",
    "\n",
    "    for t in range(62,63):\n",
    "        T_env = 11.67\n",
    "\n",
    "\n",
    "    for t in range(63,68):\n",
    "        T_env = 21.11\n",
    "    dt = 1\n",
    "                \n",
    "    return System(locals())"
   ]
  },
  {
   "cell_type": "markdown",
   "metadata": {},
   "source": [
    "Running the new code:"
   ]
  },
  {
   "cell_type": "code",
   "execution_count": 11,
   "metadata": {},
   "outputs": [
    {
     "data": {
      "text/plain": [
       "26.101375867105983"
      ]
     },
     "execution_count": 11,
     "metadata": {},
     "output_type": "execute_result"
    }
   ],
   "source": [
    "coffee = make_system(T_init=70, k=0.033, volume=200, t_end=68)\n",
    "results = run_simulation(coffee, update_func)\n",
    "coffee.T_final"
   ]
  },
  {
   "cell_type": "markdown",
   "metadata": {},
   "source": [
    "And we can make it easier to get the final temperature by adding another function. This will be necessary when we get to sweeping our parameters."
   ]
  },
  {
   "cell_type": "code",
   "execution_count": 12,
   "metadata": {},
   "outputs": [],
   "source": [
    "def coffee_final(results):\n",
    " \n",
    "    return get_last_value(results.T)"
   ]
  },
  {
   "cell_type": "markdown",
   "metadata": {},
   "source": [
    "### Sweeping parameters ###\n",
    "Now that we have our model, let's answer our question by sweeping for `T_init` and `k`."
   ]
  },
  {
   "cell_type": "markdown",
   "metadata": {},
   "source": [
    "#### Sweeping T_init \n",
    "To sweep our initial temperature, we'll loop an array into a function and return a SweepSeries object."
   ]
  },
  {
   "cell_type": "code",
   "execution_count": 13,
   "metadata": {},
   "outputs": [
    {
     "data": {
      "text/plain": [
       "array([ 60.,  65.,  70.,  75.,  80.,  85.,  90.,  95., 100.])"
      ]
     },
     "execution_count": 13,
     "metadata": {},
     "output_type": "execute_result"
    }
   ],
   "source": [
    "T_array = linspace(60, 100, 9)"
   ]
  },
  {
   "cell_type": "code",
   "execution_count": 14,
   "metadata": {},
   "outputs": [],
   "source": [
    "def sweep_T(T_array, k):\n",
    "    \"\"\"Sweep a range of values for T_init.\n",
    "    \n",
    "    T_array: array of T_init values\n",
    "    r: rate of heat transfer\n",
    "    \n",
    "    returns: SweepSeries that maps from beta to total infected\n",
    "    \"\"\"\n",
    "    sweep = SweepSeries()\n",
    "    for T_init in T_array:\n",
    "        coffee = make_system(T_init, k, volume, t_end)\n",
    "        results = run_simulation(coffee, update_func)\n",
    "        sweep[coffee.T_init] = coffee_final(results)\n",
    "    return sweep"
   ]
  },
  {
   "cell_type": "markdown",
   "metadata": {},
   "source": [
    "To test our results we can run our function and plot the results."
   ]
  },
  {
   "cell_type": "code",
   "execution_count": 15,
   "metadata": {},
   "outputs": [
    {
     "data": {
      "text/html": [
       "<div>\n",
       "<style scoped>\n",
       "    .dataframe tbody tr th:only-of-type {\n",
       "        vertical-align: middle;\n",
       "    }\n",
       "\n",
       "    .dataframe tbody tr th {\n",
       "        vertical-align: top;\n",
       "    }\n",
       "\n",
       "    .dataframe thead th {\n",
       "        text-align: right;\n",
       "    }\n",
       "</style>\n",
       "<table border=\"1\" class=\"dataframe\">\n",
       "  <thead>\n",
       "    <tr style=\"text-align: right;\">\n",
       "      <th></th>\n",
       "      <th>values</th>\n",
       "    </tr>\n",
       "  </thead>\n",
       "  <tbody>\n",
       "    <tr>\n",
       "      <th>60</th>\n",
       "      <td>25.080436</td>\n",
       "    </tr>\n",
       "    <tr>\n",
       "      <th>65</th>\n",
       "      <td>25.590906</td>\n",
       "    </tr>\n",
       "    <tr>\n",
       "      <th>70</th>\n",
       "      <td>26.101376</td>\n",
       "    </tr>\n",
       "    <tr>\n",
       "      <th>75</th>\n",
       "      <td>26.611846</td>\n",
       "    </tr>\n",
       "    <tr>\n",
       "      <th>80</th>\n",
       "      <td>27.122316</td>\n",
       "    </tr>\n",
       "    <tr>\n",
       "      <th>85</th>\n",
       "      <td>27.632786</td>\n",
       "    </tr>\n",
       "    <tr>\n",
       "      <th>90</th>\n",
       "      <td>28.143256</td>\n",
       "    </tr>\n",
       "    <tr>\n",
       "      <th>95</th>\n",
       "      <td>28.653726</td>\n",
       "    </tr>\n",
       "    <tr>\n",
       "      <th>100</th>\n",
       "      <td>29.164196</td>\n",
       "    </tr>\n",
       "  </tbody>\n",
       "</table>\n",
       "</div>"
      ],
      "text/plain": [
       "60     25.080436\n",
       "65     25.590906\n",
       "70     26.101376\n",
       "75     26.611846\n",
       "80     27.122316\n",
       "85     27.632786\n",
       "90     28.143256\n",
       "95     28.653726\n",
       "100    29.164196\n",
       "dtype: float64"
      ]
     },
     "execution_count": 15,
     "metadata": {},
     "output_type": "execute_result"
    }
   ],
   "source": [
    "init_Temp = sweep_T(T_array, k)"
   ]
  },
  {
   "cell_type": "code",
   "execution_count": 16,
   "metadata": {},
   "outputs": [
    {
     "data": {
      "image/png": "[encoded data removed]",
      "text/plain": [
       "<Figure size 432x288 with 1 Axes>"
      ]
     },
     "metadata": {},
     "output_type": "display_data"
    }
   ],
   "source": [
    "label = 'k = ' + str(k)\n",
    "plot(init_Temp, label=label)\n",
    "\n",
    "decorate(xlabel='Initial Temperature (degrees Celsius)',\n",
    "         ylabel='Final Temperature')"
   ]
  },
  {
   "cell_type": "markdown",
   "metadata": {},
   "source": [
    "## Results 2 ##\n",
    "As you can see, the higher the initial temperature, the higher the final temperature of the coffee. With a constant `k` value of 0.033, the highest possible initial temperature (since water boils at 100 degrees Celsius) still won't produce a high enough final temperature. Additionally, it is unfeasible to carry around extremely hot coffee, since the chance of spilling and burning yourself are high. Therefore, we should look at other ways to produce higher final temperatures."
   ]
  },
  {
   "cell_type": "markdown",
   "metadata": {},
   "source": [
    "#### Sweeping T_init and k\n",
    "From here, we can sweep *k* as well and use a SweepFrame to store our results. By changing the rate of heat transfer, `k`, we can also attempt to end our simulation with a better final temperature."
   ]
  },
  {
   "cell_type": "code",
   "execution_count": 17,
   "metadata": {},
   "outputs": [],
   "source": [
    "def sweep_parameters(T_array, k_array):\n",
    "    \"\"\"Sweep a range of values for T_init and k.\n",
    "    \n",
    "    T_array: array of initial temperatures\n",
    "    k_array: array of heat transfer rates\n",
    "    \n",
    "    returns: SweepFrame with one row for each T_init\n",
    "             and one column for each k\n",
    "    \"\"\"\n",
    "    frame = SweepFrame(columns=k_array)\n",
    "    for k in k_array:\n",
    "        frame[k] = sweep_T(T_array, k)\n",
    "    return frame"
   ]
  },
  {
   "cell_type": "markdown",
   "metadata": {},
   "source": [
    "And the results:"
   ]
  },
  {
   "cell_type": "code",
   "execution_count": 18,
   "metadata": {},
   "outputs": [
    {
     "data": {
      "text/html": [
       "<div>\n",
       "<style scoped>\n",
       "    .dataframe tbody tr th:only-of-type {\n",
       "        vertical-align: middle;\n",
       "    }\n",
       "\n",
       "    .dataframe tbody tr th {\n",
       "        vertical-align: top;\n",
       "    }\n",
       "\n",
       "    .dataframe thead th {\n",
       "        text-align: right;\n",
       "    }\n",
       "</style>\n",
       "<table border=\"1\" class=\"dataframe\">\n",
       "  <thead>\n",
       "    <tr style=\"text-align: right;\">\n",
       "      <th></th>\n",
       "      <th>0.0</th>\n",
       "      <th>0.01</th>\n",
       "      <th>0.02</th>\n",
       "      <th>0.03</th>\n",
       "      <th>0.04</th>\n",
       "      <th>0.05</th>\n",
       "    </tr>\n",
       "  </thead>\n",
       "  <tbody>\n",
       "    <tr>\n",
       "      <th>60</th>\n",
       "      <td>60.0</td>\n",
       "      <td>40.745012</td>\n",
       "      <td>30.954895</td>\n",
       "      <td>26.011352</td>\n",
       "      <td>23.532600</td>\n",
       "      <td>22.298620</td>\n",
       "    </tr>\n",
       "    <tr>\n",
       "      <th>65</th>\n",
       "      <td>65.0</td>\n",
       "      <td>43.269442</td>\n",
       "      <td>32.220631</td>\n",
       "      <td>26.641508</td>\n",
       "      <td>23.844069</td>\n",
       "      <td>22.451438</td>\n",
       "    </tr>\n",
       "    <tr>\n",
       "      <th>70</th>\n",
       "      <td>70.0</td>\n",
       "      <td>45.793871</td>\n",
       "      <td>33.486367</td>\n",
       "      <td>27.271663</td>\n",
       "      <td>24.155537</td>\n",
       "      <td>22.604257</td>\n",
       "    </tr>\n",
       "    <tr>\n",
       "      <th>75</th>\n",
       "      <td>75.0</td>\n",
       "      <td>48.318301</td>\n",
       "      <td>34.752103</td>\n",
       "      <td>27.901819</td>\n",
       "      <td>24.467005</td>\n",
       "      <td>22.757075</td>\n",
       "    </tr>\n",
       "    <tr>\n",
       "      <th>80</th>\n",
       "      <td>80.0</td>\n",
       "      <td>50.842730</td>\n",
       "      <td>36.017839</td>\n",
       "      <td>28.531975</td>\n",
       "      <td>24.778474</td>\n",
       "      <td>22.909893</td>\n",
       "    </tr>\n",
       "  </tbody>\n",
       "</table>\n",
       "</div>"
      ],
      "text/plain": [
       "    0.00       0.01       0.02       0.03       0.04       0.05\n",
       "60  60.0  40.745012  30.954895  26.011352  23.532600  22.298620\n",
       "65  65.0  43.269442  32.220631  26.641508  23.844069  22.451438\n",
       "70  70.0  45.793871  33.486367  27.271663  24.155537  22.604257\n",
       "75  75.0  48.318301  34.752103  27.901819  24.467005  22.757075\n",
       "80  80.0  50.842730  36.017839  28.531975  24.778474  22.909893"
      ]
     },
     "execution_count": 18,
     "metadata": {},
     "output_type": "execute_result"
    }
   ],
   "source": [
    "T_array = linspace(60, 100, 9)\n",
    "k_array = linspace(0, .05, 6)\n",
    "frame = sweep_parameters(T_array, k_array)\n",
    "frame.head()\n",
    "#two parameter sweep"
   ]
  },
  {
   "cell_type": "code",
   "execution_count": 19,
   "metadata": {},
   "outputs": [
    {
     "data": {
      "text/html": [
       "<div>\n",
       "<style scoped>\n",
       "    .dataframe tbody tr th:only-of-type {\n",
       "        vertical-align: middle;\n",
       "    }\n",
       "\n",
       "    .dataframe tbody tr th {\n",
       "        vertical-align: top;\n",
       "    }\n",
       "\n",
       "    .dataframe thead th {\n",
       "        text-align: right;\n",
       "    }\n",
       "</style>\n",
       "<table border=\"1\" class=\"dataframe\">\n",
       "  <thead>\n",
       "    <tr style=\"text-align: right;\">\n",
       "      <th></th>\n",
       "      <th>0.0</th>\n",
       "      <th>0.01</th>\n",
       "      <th>0.02</th>\n",
       "      <th>0.03</th>\n",
       "      <th>0.04</th>\n",
       "      <th>0.05</th>\n",
       "    </tr>\n",
       "  </thead>\n",
       "  <tbody>\n",
       "    <tr>\n",
       "      <th>80</th>\n",
       "      <td>80.0</td>\n",
       "      <td>50.842730</td>\n",
       "      <td>36.017839</td>\n",
       "      <td>28.531975</td>\n",
       "      <td>24.778474</td>\n",
       "      <td>22.909893</td>\n",
       "    </tr>\n",
       "    <tr>\n",
       "      <th>85</th>\n",
       "      <td>85.0</td>\n",
       "      <td>53.367159</td>\n",
       "      <td>37.283575</td>\n",
       "      <td>29.162131</td>\n",
       "      <td>25.089942</td>\n",
       "      <td>23.062711</td>\n",
       "    </tr>\n",
       "    <tr>\n",
       "      <th>90</th>\n",
       "      <td>90.0</td>\n",
       "      <td>55.891589</td>\n",
       "      <td>38.549311</td>\n",
       "      <td>29.792287</td>\n",
       "      <td>25.401410</td>\n",
       "      <td>23.215530</td>\n",
       "    </tr>\n",
       "    <tr>\n",
       "      <th>95</th>\n",
       "      <td>95.0</td>\n",
       "      <td>58.416018</td>\n",
       "      <td>39.815047</td>\n",
       "      <td>30.422442</td>\n",
       "      <td>25.712879</td>\n",
       "      <td>23.368348</td>\n",
       "    </tr>\n",
       "    <tr>\n",
       "      <th>100</th>\n",
       "      <td>100.0</td>\n",
       "      <td>60.940448</td>\n",
       "      <td>41.080783</td>\n",
       "      <td>31.052598</td>\n",
       "      <td>26.024347</td>\n",
       "      <td>23.521166</td>\n",
       "    </tr>\n",
       "  </tbody>\n",
       "</table>\n",
       "</div>"
      ],
      "text/plain": [
       "      0.00       0.01       0.02       0.03       0.04       0.05\n",
       "80    80.0  50.842730  36.017839  28.531975  24.778474  22.909893\n",
       "85    85.0  53.367159  37.283575  29.162131  25.089942  23.062711\n",
       "90    90.0  55.891589  38.549311  29.792287  25.401410  23.215530\n",
       "95    95.0  58.416018  39.815047  30.422442  25.712879  23.368348\n",
       "100  100.0  60.940448  41.080783  31.052598  26.024347  23.521166"
      ]
     },
     "execution_count": 19,
     "metadata": {},
     "output_type": "execute_result"
    }
   ],
   "source": [
    "frame.tail()\n",
    "#two parameter sweep"
   ]
  },
  {
   "cell_type": "markdown",
   "metadata": {},
   "source": [
    "And to plot the results:"
   ]
  },
  {
   "cell_type": "code",
   "execution_count": 20,
   "metadata": {},
   "outputs": [
    {
     "data": {
      "image/png": "[encoded data removed]",
      "text/plain": [
       "<Figure size 432x288 with 1 Axes>"
      ]
     },
     "metadata": {},
     "output_type": "display_data"
    }
   ],
   "source": [
    "for k in k_array:\n",
    "    label = 'k = ' + str(k)\n",
    "    plot(frame[k], label=label)\n",
    "    \n",
    "decorate(xlabel='Starting Temp. (C)',\n",
    "         ylabel='Final Temp (C)',\n",
    "         loc=1)\n",
    "#plot of two parameter sweep"
   ]
  },
  {
   "cell_type": "markdown",
   "metadata": {},
   "source": [
    "## Results 3##\n",
    "Changing the rate of heat transfer has a huge impact on the final temperature, especially when used alongside different starting temperatures. Based on these results, we can see that lower `k` values have better effects on the final temperature of the coffee. Looking at the results, `k` values of 0.02 and lower can, at different initial temperatures result in final coffee temperatures that are more suitable for drinking."
   ]
  },
  {
   "cell_type": "markdown",
   "metadata": {},
   "source": [
    "## Interpretation ##\n",
    "The temperature range that is suggested to be best for drinking coffee lies between 40 and 60 degrees Celsius (around 100 to 140 F), depending on each person's personal preference. The recommended serving temperature for coffee is between 70 and 85 degrees Celsius (around 160 to 185 F).\n",
    "\n",
    "To meet this requirement with a coffee cup with a k value of 0.03, which was our original k value, the initial temperature has to be almost 100 degrees Celsius which is the boiling temperature of water. Not only is this unfeasible, but coffee that hot would be dangerous to carry around since it would be very easy to burn oneself.\n",
    "\n",
    "Comparatively, having a cup with a k value of 0.01 allows for an initial temperature of 80 C or higher and produces a final temperature between 50 C and 60 C."
   ]
  },
  {
   "cell_type": "markdown",
   "metadata": {},
   "source": [
    "No model is perfect, and ours certainly had a fair amount of failings.\n",
    "\n",
    "First of all, we had hoped to see a change in the cooling of the coffee based on the change in location. While a difference does exist, it is barely noticeable and all we can see is a general decrease in temperature over time. This short falling was able to be ignored in the larger scheme of things, since our question depended more on the eventual final temperature of the coffee after a significant decrease in temperature had occurred.\n",
    "\n",
    "Another alteration we had to make to the model occurred when we began sweeping parameters. Originally, we had intended to only sweep for the initial temperature. This proved to be too simple of a model and didn't allow for the question to be answered based on the k value we originally had as a constant. To solve this, we added a second parameter sweep.\n",
    "\n",
    "Throughout the project, iteration played an important role in our modeling process. We used a few different ways of writing the code, using some later iterations to condense it in a neater and less unwieldy form. We also used different iterations of our code to choose the best ranges for sweeping the initial temperature and k values so that the model wasn't cluttered with too much data and made sense."
   ]
  },
  {
   "cell_type": "markdown",
   "metadata": {},
   "source": [
    "## Abstract ##\n",
    "In this project, we asked how warm should you make your coffee, knowing that you aren't going to drink it until you get to the AC and that you'll be in the Nord for an hour beforehand, and instead of making your coffee hotter, could you change the *k* value to get the same results?\n",
    "\n",
    "We found that with an initial temperature of 70 degrees Celsius and a k value of 0.033, the coffee was too cold to drink after the set time period. The following graph shows the original loss in temperature before sweeping any parameters."
   ]
  },
  {
   "cell_type": "code",
   "execution_count": 21,
   "metadata": {},
   "outputs": [
    {
     "data": {
      "image/png": "[encoded data removed]",
      "text/plain": [
       "<Figure size 432x288 with 1 Axes>"
      ]
     },
     "metadata": {},
     "output_type": "display_data"
    }
   ],
   "source": [
    "plot(results.T, label='coffee')\n",
    "decorate(xlabel='Time (minutes)',\n",
    "         ylabel='Temperature (C)')"
   ]
  },
  {
   "cell_type": "markdown",
   "metadata": {},
   "source": [
    "When we swept the initial temperature, we found that the highest possible initial temperatures (100 C) didn't produce final temperatures that were warm enough. At an initial temperature of 100 C (boiling point of water) the final temperature is just over 29 C as shown in the graph below."
   ]
  },
  {
   "cell_type": "code",
   "execution_count": 22,
   "metadata": {},
   "outputs": [
    {
     "data": {
      "image/png": "[encoded data removed]",
      "text/plain": [
       "<Figure size 432x288 with 1 Axes>"
      ]
     },
     "metadata": {},
     "output_type": "display_data"
    }
   ],
   "source": [
    "label = 'k = ' + str(k)\n",
    "plot(init_Temp, label=label)\n",
    "\n",
    "decorate(xlabel='Initial Temperature (degrees Celsius)',\n",
    "         ylabel='Final Temperature')"
   ]
  },
  {
   "cell_type": "markdown",
   "metadata": {},
   "source": [
    "Our final parameter sweep, which swept both initial temperature and k value better answered our question. The following graph indicates our results."
   ]
  },
  {
   "cell_type": "code",
   "execution_count": 23,
   "metadata": {},
   "outputs": [
    {
     "data": {
      "image/png": "[encoded data removed]",
      "text/plain": [
       "<Figure size 432x288 with 1 Axes>"
      ]
     },
     "metadata": {},
     "output_type": "display_data"
    }
   ],
   "source": [
    "for k in k_array:\n",
    "    label = 'k = ' + str(k)\n",
    "    plot(frame[k], label=label)\n",
    "    \n",
    "decorate(xlabel='Starting Temp. (C)',\n",
    "         ylabel='Final Temp (C)',\n",
    "         loc=1)"
   ]
  },
  {
   "cell_type": "markdown",
   "metadata": {},
   "source": [
    "As shown, to have a final coffee temperature that is warm enough to drink, a k value of 0.01 or less would be needed along with an initial temperature of at least 80 degrees Celsius."
   ]
  },
  {
   "cell_type": "code",
   "execution_count": null,
   "metadata": {},
   "outputs": [],
   "source": []
  }
 ],
 "metadata": {
  "kernelspec": {
   "display_name": "Python 3",
   "language": "python",
   "name": "python3"
  },
  "language_info": {
   "codemirror_mode": {
    "name": "ipython",
    "version": 3
   },
   "file_extension": ".py",
   "mimetype": "text/x-python",
   "name": "python",
   "nbconvert_exporter": "python",
   "pygments_lexer": "ipython3",
   "version": "3.6.6"
  }
 },
 "nbformat": 4,
 "nbformat_minor": 2
}
